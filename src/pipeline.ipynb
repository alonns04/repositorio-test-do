{
 "cells": [
  {
   "cell_type": "code",
   "execution_count": 23,
   "id": "a6762efb",
   "metadata": {},
   "outputs": [],
   "source": [
    "import re\n",
    "import os\n",
    "from dotenv import load_dotenv\n",
    "from langchain_groq import ChatGroq\n",
    "from langchain.schema import Document\n",
    "from langchain.vectorstores import Chroma\n",
    "from langchain.prompts import PromptTemplate\n",
    "from IPython.display import display, Markdown\n",
    "from langchain.storage import InMemoryByteStore\n",
    "from langchain.retrievers import ParentDocumentRetriever\n",
    "from langchain.embeddings import HuggingFaceBgeEmbeddings\n",
    "from langchain.text_splitter import RecursiveCharacterTextSplitter"
   ]
  },
  {
   "cell_type": "code",
   "execution_count": 24,
   "id": "8b8c96ed",
   "metadata": {},
   "outputs": [
    {
     "data": {
      "text/plain": [
       "True"
      ]
     },
     "execution_count": 24,
     "metadata": {},
     "output_type": "execute_result"
    }
   ],
   "source": [
    "load_dotenv()"
   ]
  },
  {
   "cell_type": "code",
   "execution_count": 25,
   "id": "5334c00a",
   "metadata": {},
   "outputs": [
    {
     "name": "stdout",
     "output_type": "stream",
     "text": [
      "gsk_i\n"
     ]
    }
   ],
   "source": [
    "groq_api_key = os.getenv(\"GROQ_API_KEY\")\n",
    "print(groq_api_key[:5])"
   ]
  },
  {
   "cell_type": "code",
   "execution_count": 26,
   "id": "053b9326",
   "metadata": {},
   "outputs": [
    {
     "name": "stdout",
     "output_type": "stream",
     "text": [
      "### MODELOS DISPONIBLES\n",
      "\n",
      "Modelo: FZ-S FI\n",
      "Cilindrada: 149 cc\n",
      "Precio: $3.500.000\n",
      "Descripción: Con estilo deportivo y tecnología Blue Core, el FZ-S FI ofrece eficiencia y rendimiento para el uso diario e\n"
     ]
    }
   ],
   "source": [
    "with open(\"corpus.txt\", \"r\", encoding=\"utf-8\") as f:\n",
    "    corpus = f.read()\n",
    "\n",
    "print(corpus[:200])"
   ]
  },
  {
   "cell_type": "code",
   "execution_count": 27,
   "id": "35b8f7aa",
   "metadata": {},
   "outputs": [],
   "source": [
    "# Segmentamos el corpus en bloques útiles (por ejemplo, por modelo o por FAQ)\n",
    "segments = re.split(r\"\\n\\s*---+\\s*\\n|\\n\\s*### \", corpus)\n",
    "segments = [c.strip() for c in segments if c.strip()]\n",
    "\n",
    "# Creamos los objetos Document\n",
    "documents = [Document(page_content=chunk) for chunk in segments]"
   ]
  },
  {
   "cell_type": "code",
   "execution_count": 28,
   "id": "ce08cf13",
   "metadata": {},
   "outputs": [
    {
     "data": {
      "text/plain": [
       "4"
      ]
     },
     "execution_count": 28,
     "metadata": {},
     "output_type": "execute_result"
    }
   ],
   "source": [
    "len(documents)"
   ]
  },
  {
   "cell_type": "code",
   "execution_count": 29,
   "id": "c9fc0413",
   "metadata": {},
   "outputs": [],
   "source": [
    "splitter = RecursiveCharacterTextSplitter(chunk_size=300, chunk_overlap=50)\n",
    "embedder = HuggingFaceBgeEmbeddings(model_name=\"sentence-transformers/all-MiniLM-L12-v2\")"
   ]
  },
  {
   "cell_type": "code",
   "execution_count": 30,
   "id": "654ab339",
   "metadata": {},
   "outputs": [],
   "source": [
    "# Creación de la base de datos vectorial y almacenamiento en memoria\n",
    "vectordb = Chroma(\n",
    "\tcollection_name=\"parent_child_demo\",\n",
    "\tembedding_function=embedder,\n",
    "\tpersist_directory=\"../src/vectordb/\"\n",
    ")"
   ]
  },
  {
   "cell_type": "code",
   "execution_count": 31,
   "id": "6a6ddcdf",
   "metadata": {},
   "outputs": [],
   "source": [
    "byte_store = InMemoryByteStore()"
   ]
  },
  {
   "cell_type": "code",
   "execution_count": 32,
   "id": "154b3c2c",
   "metadata": {},
   "outputs": [],
   "source": [
    "retriever = ParentDocumentRetriever(\n",
    "\tvectorstore=vectordb,\n",
    "\tbyte_store=byte_store,\n",
    "\tchild_splitter=splitter\n",
    ")"
   ]
  },
  {
   "cell_type": "code",
   "execution_count": 33,
   "id": "26488973",
   "metadata": {},
   "outputs": [],
   "source": [
    "retriever.add_documents(documents)"
   ]
  },
  {
   "cell_type": "code",
   "execution_count": 34,
   "id": "5d9126b0",
   "metadata": {},
   "outputs": [],
   "source": [
    "llm = ChatGroq(\n",
    "    groq_api_key=groq_api_key,\n",
    "    model_name=\"llama3-8b-8192\",\n",
    "    temperature=0.2,\n",
    "\tmax_tokens=100\n",
    ")"
   ]
  },
  {
   "cell_type": "code",
   "execution_count": 35,
   "id": "8e3cbc7b",
   "metadata": {},
   "outputs": [],
   "source": [
    "template = \"\"\"\n",
    "Sos un asistente de atención al cliente para la concesionaria de motos LiderMotos. Te caracterizás por ser conciso y directo, entendiendo que los usuarios interactúan con nosotros a través de WhatsApp y prefieren respuestas breves y claras. Pero, no te olvides siempre de saludar y ser amable. Tu objetivo es proporcionar respuestas útiles y precisas a las preguntas de los usuarios, basándote en la información disponible en el contexto proporcionado.\n",
    "\n",
    "Contexto:\n",
    "{contexto}\n",
    "\n",
    "Pregunta: {pregunta}\n",
    "Respuesta:\n",
    "\"\"\"\n",
    "\n",
    "prompt = PromptTemplate(\n",
    "    input_variables=[\"contexto\", \"pregunta\"],\n",
    "    template=template\n",
    ")"
   ]
  },
  {
   "cell_type": "code",
   "execution_count": 36,
   "id": "e3d538c1",
   "metadata": {},
   "outputs": [],
   "source": [
    "query = \"¿Puedo pagar en cuotas con tarjeta naranja?\""
   ]
  },
  {
   "cell_type": "code",
   "execution_count": 37,
   "id": "b498253c",
   "metadata": {},
   "outputs": [],
   "source": [
    "resultados = retriever.get_relevant_documents(query)\n",
    "contexto = \"\\n\\n\".join([doc.page_content for doc in resultados])\n",
    "\n",
    "prompt_input = prompt.format(contexto=contexto, pregunta=query)"
   ]
  },
  {
   "cell_type": "code",
   "execution_count": 38,
   "id": "7cbc11d9",
   "metadata": {},
   "outputs": [
    {
     "data": {
      "text/markdown": [
       "¡Hola!"
      ],
      "text/plain": [
       "<IPython.core.display.Markdown object>"
      ]
     },
     "metadata": {},
     "output_type": "display_data"
    }
   ],
   "source": [
    "# Llamada al modelo Groq\n",
    "respuesta = llm.invoke(prompt_input)\n",
    "display(Markdown(respuesta.content))"
   ]
  }
 ],
 "metadata": {
  "kernelspec": {
   "display_name": "venv",
   "language": "python",
   "name": "python3"
  },
  "language_info": {
   "codemirror_mode": {
    "name": "ipython",
    "version": 3
   },
   "file_extension": ".py",
   "mimetype": "text/x-python",
   "name": "python",
   "nbconvert_exporter": "python",
   "pygments_lexer": "ipython3",
   "version": "3.13.2"
  }
 },
 "nbformat": 4,
 "nbformat_minor": 5
}
